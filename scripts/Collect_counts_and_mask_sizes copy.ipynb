{
 "cells": [
  {
   "cell_type": "code",
   "execution_count": 1,
   "metadata": {},
   "outputs": [],
   "source": [
    "import os\n",
    "import csv\n",
    "import pandas as pd\n"
   ]
  },
  {
   "cell_type": "code",
   "execution_count": 2,
   "metadata": {},
   "outputs": [],
   "source": [
    "#Create a csv with the initial columnnames\n",
    "import csv\n",
    "with open('/Users/laurabreimann/Desktop/Inga/database/smFISH_database.csv', 'w', newline='') as table:\n",
    "    fieldnames = [\"filename\",'folder',\"target\", \"count\", ]\n",
    "    writer = csv.DictWriter(table, fieldnames=fieldnames)\n",
    "    writer.writeheader()\n",
    "    "
   ]
  },
  {
   "cell_type": "code",
   "execution_count": 3,
   "metadata": {},
   "outputs": [],
   "source": [
    "# This is the path where you want to search\n",
    "path ='/Users/laurabreimann/Desktop/Inga/best_results/'\n",
    "csv_file= '/Users/laurabreimann/Desktop/Inga/database/smFISH_database.csv'\n",
    "\n",
    "\n",
    "# this is the extension you want to detect\n",
    "extension = '.csv'\n",
    "\n",
    "length_of_file = []\n",
    "\n",
    "\n",
    "\n",
    "for root, dirs_list, files_list in os.walk(path):\n",
    "    for file_name in files_list:\n",
    "        if file_name[-4:] == extension and not file_name.startswith('._'):\n",
    "            #print(os.path.join(root, file_name))\n",
    "            reader = pd.read_csv(os.path.join(root, file_name))\n",
    "            length_of_file = len(reader)\n",
    "           \n",
    "            with open(csv_file, 'a', newline='') as file:\n",
    "                fieldnames = [\"filename\",\"folder\",\"target\",\"count\"]\n",
    "                writer = csv.DictWriter(file, fieldnames=fieldnames, delimiter=',',lineterminator='\\n')\n",
    "                writer.writerow({\"filename\": file_name, \"folder\": root, \"count\" : length_of_file })\n",
    "\n",
    "     "
   ]
  },
  {
   "cell_type": "code",
   "execution_count": 4,
   "metadata": {},
   "outputs": [],
   "source": [
    "df = pd.read_csv('/Users/laurabreimann/Desktop/Inga/database/smFISH_database.csv')"
   ]
  },
  {
   "cell_type": "code",
   "execution_count": 5,
   "metadata": {},
   "outputs": [
    {
     "data": {
      "text/html": [
       "<div>\n",
       "<style scoped>\n",
       "    .dataframe tbody tr th:only-of-type {\n",
       "        vertical-align: middle;\n",
       "    }\n",
       "\n",
       "    .dataframe tbody tr th {\n",
       "        vertical-align: top;\n",
       "    }\n",
       "\n",
       "    .dataframe thead th {\n",
       "        text-align: right;\n",
       "    }\n",
       "</style>\n",
       "<table border=\"1\" class=\"dataframe\">\n",
       "  <thead>\n",
       "    <tr style=\"text-align: right;\">\n",
       "      <th></th>\n",
       "      <th>filename</th>\n",
       "      <th>folder</th>\n",
       "      <th>target</th>\n",
       "      <th>count</th>\n",
       "    </tr>\n",
       "  </thead>\n",
       "  <tbody>\n",
       "    <tr>\n",
       "      <th>0</th>\n",
       "      <td>Act_Puro647_Map2_488_scr_ctrl_scr8_filtered.csv</td>\n",
       "      <td>/Users/laurabreimann/Desktop/Inga/best_results/</td>\n",
       "      <td>NaN</td>\n",
       "      <td>33</td>\n",
       "    </tr>\n",
       "    <tr>\n",
       "      <th>1</th>\n",
       "      <td>ActB_Puro647_Map2-488_shLarp-001_larp16_filter...</td>\n",
       "      <td>/Users/laurabreimann/Desktop/Inga/best_results/</td>\n",
       "      <td>NaN</td>\n",
       "      <td>15</td>\n",
       "    </tr>\n",
       "    <tr>\n",
       "      <th>2</th>\n",
       "      <td>ActB_Puro647_Map2-488_shLarp-001_larp4_filtere...</td>\n",
       "      <td>/Users/laurabreimann/Desktop/Inga/best_results/</td>\n",
       "      <td>NaN</td>\n",
       "      <td>7</td>\n",
       "    </tr>\n",
       "    <tr>\n",
       "      <th>3</th>\n",
       "      <td>ActB_Puro647_Map2-488_shLarp-001_larp11_filter...</td>\n",
       "      <td>/Users/laurabreimann/Desktop/Inga/best_results/</td>\n",
       "      <td>NaN</td>\n",
       "      <td>13</td>\n",
       "    </tr>\n",
       "    <tr>\n",
       "      <th>4</th>\n",
       "      <td>ActB_Puro647_Map2-488_shLarp-001_larp3_filtere...</td>\n",
       "      <td>/Users/laurabreimann/Desktop/Inga/best_results/</td>\n",
       "      <td>NaN</td>\n",
       "      <td>3</td>\n",
       "    </tr>\n",
       "  </tbody>\n",
       "</table>\n",
       "</div>"
      ],
      "text/plain": [
       "                                            filename  \\\n",
       "0    Act_Puro647_Map2_488_scr_ctrl_scr8_filtered.csv   \n",
       "1  ActB_Puro647_Map2-488_shLarp-001_larp16_filter...   \n",
       "2  ActB_Puro647_Map2-488_shLarp-001_larp4_filtere...   \n",
       "3  ActB_Puro647_Map2-488_shLarp-001_larp11_filter...   \n",
       "4  ActB_Puro647_Map2-488_shLarp-001_larp3_filtere...   \n",
       "\n",
       "                                            folder  target  count  \n",
       "0  /Users/laurabreimann/Desktop/Inga/best_results/     NaN     33  \n",
       "1  /Users/laurabreimann/Desktop/Inga/best_results/     NaN     15  \n",
       "2  /Users/laurabreimann/Desktop/Inga/best_results/     NaN      7  \n",
       "3  /Users/laurabreimann/Desktop/Inga/best_results/     NaN     13  \n",
       "4  /Users/laurabreimann/Desktop/Inga/best_results/     NaN      3  "
      ]
     },
     "execution_count": 5,
     "metadata": {},
     "output_type": "execute_result"
    }
   ],
   "source": [
    "df.head()"
   ]
  },
  {
   "cell_type": "code",
   "execution_count": 6,
   "metadata": {},
   "outputs": [],
   "source": [
    "# Create a column with the shRNA condition \n",
    "\n",
    "df.loc[df['filename'].str.contains('shLarp'), 'shRNA'] = 'shLarp'\n",
    "df.loc[df['filename'].str.contains('scr'), 'shRNA'] = 'ctrl'\n",
    "\n"
   ]
  },
  {
   "cell_type": "code",
   "execution_count": 7,
   "metadata": {},
   "outputs": [
    {
     "data": {
      "text/html": [
       "<div>\n",
       "<style scoped>\n",
       "    .dataframe tbody tr th:only-of-type {\n",
       "        vertical-align: middle;\n",
       "    }\n",
       "\n",
       "    .dataframe tbody tr th {\n",
       "        vertical-align: top;\n",
       "    }\n",
       "\n",
       "    .dataframe thead th {\n",
       "        text-align: right;\n",
       "    }\n",
       "</style>\n",
       "<table border=\"1\" class=\"dataframe\">\n",
       "  <thead>\n",
       "    <tr style=\"text-align: right;\">\n",
       "      <th></th>\n",
       "      <th>filename</th>\n",
       "      <th>folder</th>\n",
       "      <th>target</th>\n",
       "      <th>count</th>\n",
       "      <th>shRNA</th>\n",
       "    </tr>\n",
       "  </thead>\n",
       "  <tbody>\n",
       "    <tr>\n",
       "      <th>0</th>\n",
       "      <td>Act_Puro647_Map2_488_scr_ctrl_scr8_filtered.csv</td>\n",
       "      <td>/Users/laurabreimann/Desktop/Inga/best_results/</td>\n",
       "      <td>NaN</td>\n",
       "      <td>33</td>\n",
       "      <td>ctrl</td>\n",
       "    </tr>\n",
       "    <tr>\n",
       "      <th>1</th>\n",
       "      <td>ActB_Puro647_Map2-488_shLarp-001_larp16_filter...</td>\n",
       "      <td>/Users/laurabreimann/Desktop/Inga/best_results/</td>\n",
       "      <td>NaN</td>\n",
       "      <td>15</td>\n",
       "      <td>shLarp</td>\n",
       "    </tr>\n",
       "    <tr>\n",
       "      <th>2</th>\n",
       "      <td>ActB_Puro647_Map2-488_shLarp-001_larp4_filtere...</td>\n",
       "      <td>/Users/laurabreimann/Desktop/Inga/best_results/</td>\n",
       "      <td>NaN</td>\n",
       "      <td>7</td>\n",
       "      <td>shLarp</td>\n",
       "    </tr>\n",
       "    <tr>\n",
       "      <th>3</th>\n",
       "      <td>ActB_Puro647_Map2-488_shLarp-001_larp11_filter...</td>\n",
       "      <td>/Users/laurabreimann/Desktop/Inga/best_results/</td>\n",
       "      <td>NaN</td>\n",
       "      <td>13</td>\n",
       "      <td>shLarp</td>\n",
       "    </tr>\n",
       "    <tr>\n",
       "      <th>4</th>\n",
       "      <td>ActB_Puro647_Map2-488_shLarp-001_larp3_filtere...</td>\n",
       "      <td>/Users/laurabreimann/Desktop/Inga/best_results/</td>\n",
       "      <td>NaN</td>\n",
       "      <td>3</td>\n",
       "      <td>shLarp</td>\n",
       "    </tr>\n",
       "  </tbody>\n",
       "</table>\n",
       "</div>"
      ],
      "text/plain": [
       "                                            filename  \\\n",
       "0    Act_Puro647_Map2_488_scr_ctrl_scr8_filtered.csv   \n",
       "1  ActB_Puro647_Map2-488_shLarp-001_larp16_filter...   \n",
       "2  ActB_Puro647_Map2-488_shLarp-001_larp4_filtere...   \n",
       "3  ActB_Puro647_Map2-488_shLarp-001_larp11_filter...   \n",
       "4  ActB_Puro647_Map2-488_shLarp-001_larp3_filtere...   \n",
       "\n",
       "                                            folder  target  count   shRNA  \n",
       "0  /Users/laurabreimann/Desktop/Inga/best_results/     NaN     33    ctrl  \n",
       "1  /Users/laurabreimann/Desktop/Inga/best_results/     NaN     15  shLarp  \n",
       "2  /Users/laurabreimann/Desktop/Inga/best_results/     NaN      7  shLarp  \n",
       "3  /Users/laurabreimann/Desktop/Inga/best_results/     NaN     13  shLarp  \n",
       "4  /Users/laurabreimann/Desktop/Inga/best_results/     NaN      3  shLarp  "
      ]
     },
     "execution_count": 7,
     "metadata": {},
     "output_type": "execute_result"
    }
   ],
   "source": [
    "#sort the database\n",
    "df.sort_values(\n",
    "    by=[\"shRNA\",\"filename\"])\n",
    "\n",
    "df.head(5)"
   ]
  },
  {
   "cell_type": "code",
   "execution_count": 8,
   "metadata": {},
   "outputs": [
    {
     "data": {
      "text/plain": [
       "80"
      ]
     },
     "execution_count": 8,
     "metadata": {},
     "output_type": "execute_result"
    }
   ],
   "source": [
    "len(df)"
   ]
  },
  {
   "cell_type": "code",
   "execution_count": 9,
   "metadata": {},
   "outputs": [],
   "source": [
    "df.to_csv('/Users/laurabreimann/Desktop/Inga/database/smFISH_database_2.csv', index=False)  \n"
   ]
  },
  {
   "cell_type": "code",
   "execution_count": 10,
   "metadata": {},
   "outputs": [],
   "source": [
    "#read in the area of the structures\n",
    "\n",
    "#Create a csv with the initial columnnames\n",
    "import csv\n",
    "with open('/Users/laurabreimann/Desktop/Inga/database/area_sizes.csv', 'w', newline='') as table:\n",
    "    fieldnames = [\"filename\",'area', \"folder\"]\n",
    "    writer = csv.DictWriter(table, fieldnames=fieldnames)\n",
    "    writer.writeheader()\n"
   ]
  },
  {
   "cell_type": "code",
   "execution_count": 11,
   "metadata": {},
   "outputs": [],
   "source": [
    "# This is the path where you want to search\n",
    "path_area ='/Users/laurabreimann/Desktop/Inga/masks/'\n",
    "area_file= '/Users/laurabreimann/Desktop/Inga/database/area_sizes.csv'\n",
    "\n",
    "\n",
    "# this is the extension you want to detect\n",
    "extension = '.csv'\n",
    "\n",
    "size_of_mask = []\n",
    "\n",
    "\n",
    "\n",
    "for root, dirs_list, files_list in os.walk(path_area):\n",
    "    for file_name in files_list:\n",
    "        if file_name[-4:] == extension and not file_name.startswith('._'):\n",
    "            #print(os.path.join(root, file_name))\n",
    "            reader = pd.read_csv(os.path.join(root, file_name))\n",
    "            size_of_mask = float(reader['Area'])\n",
    "           \n",
    "            with open(area_file, 'a', newline='') as file:\n",
    "                fieldnames = [\"filename\",'area', \"folder\"]\n",
    "                writer = csv.DictWriter(file, fieldnames=fieldnames, delimiter=',',lineterminator='\\n')\n",
    "                writer.writerow({\"filename\": file_name, \"folder\": root, \"area\":  size_of_mask   })\n",
    "\n",
    "     "
   ]
  },
  {
   "cell_type": "code",
   "execution_count": 12,
   "metadata": {},
   "outputs": [
    {
     "data": {
      "text/html": [
       "<div>\n",
       "<style scoped>\n",
       "    .dataframe tbody tr th:only-of-type {\n",
       "        vertical-align: middle;\n",
       "    }\n",
       "\n",
       "    .dataframe tbody tr th {\n",
       "        vertical-align: top;\n",
       "    }\n",
       "\n",
       "    .dataframe thead th {\n",
       "        text-align: right;\n",
       "    }\n",
       "</style>\n",
       "<table border=\"1\" class=\"dataframe\">\n",
       "  <thead>\n",
       "    <tr style=\"text-align: right;\">\n",
       "      <th></th>\n",
       "      <th>filename</th>\n",
       "      <th>area</th>\n",
       "      <th>folder</th>\n",
       "      <th>shRNA</th>\n",
       "    </tr>\n",
       "  </thead>\n",
       "  <tbody>\n",
       "    <tr>\n",
       "      <th>0</th>\n",
       "      <td>ActB_Puro647_Map2-488_shLarp-001_larp20.tif.csv</td>\n",
       "      <td>1048576.0</td>\n",
       "      <td>/Users/laurabreimann/Desktop/Inga/masks/</td>\n",
       "      <td>shLarp</td>\n",
       "    </tr>\n",
       "    <tr>\n",
       "      <th>1</th>\n",
       "      <td>ActB_Puro647_Map2-488_shLarp-001_larp2.tif.csv</td>\n",
       "      <td>1048576.0</td>\n",
       "      <td>/Users/laurabreimann/Desktop/Inga/masks/</td>\n",
       "      <td>shLarp</td>\n",
       "    </tr>\n",
       "    <tr>\n",
       "      <th>2</th>\n",
       "      <td>Act_Puro647_Map2_488_scr_ctrl_scr5_2.tif.csv</td>\n",
       "      <td>1048576.0</td>\n",
       "      <td>/Users/laurabreimann/Desktop/Inga/masks/</td>\n",
       "      <td>ctrl</td>\n",
       "    </tr>\n",
       "    <tr>\n",
       "      <th>3</th>\n",
       "      <td>Act_Puro647_Map2_488_scr_ctrl_scr10.tif.csv</td>\n",
       "      <td>1048576.0</td>\n",
       "      <td>/Users/laurabreimann/Desktop/Inga/masks/</td>\n",
       "      <td>ctrl</td>\n",
       "    </tr>\n",
       "    <tr>\n",
       "      <th>4</th>\n",
       "      <td>ActB_Puro647_Map2-488_shLarp-001_larp11_1.tif.csv</td>\n",
       "      <td>1048576.0</td>\n",
       "      <td>/Users/laurabreimann/Desktop/Inga/masks/</td>\n",
       "      <td>shLarp</td>\n",
       "    </tr>\n",
       "  </tbody>\n",
       "</table>\n",
       "</div>"
      ],
      "text/plain": [
       "                                            filename       area  \\\n",
       "0    ActB_Puro647_Map2-488_shLarp-001_larp20.tif.csv  1048576.0   \n",
       "1     ActB_Puro647_Map2-488_shLarp-001_larp2.tif.csv  1048576.0   \n",
       "2       Act_Puro647_Map2_488_scr_ctrl_scr5_2.tif.csv  1048576.0   \n",
       "3        Act_Puro647_Map2_488_scr_ctrl_scr10.tif.csv  1048576.0   \n",
       "4  ActB_Puro647_Map2-488_shLarp-001_larp11_1.tif.csv  1048576.0   \n",
       "\n",
       "                                     folder   shRNA  \n",
       "0  /Users/laurabreimann/Desktop/Inga/masks/  shLarp  \n",
       "1  /Users/laurabreimann/Desktop/Inga/masks/  shLarp  \n",
       "2  /Users/laurabreimann/Desktop/Inga/masks/    ctrl  \n",
       "3  /Users/laurabreimann/Desktop/Inga/masks/    ctrl  \n",
       "4  /Users/laurabreimann/Desktop/Inga/masks/  shLarp  "
      ]
     },
     "execution_count": 12,
     "metadata": {},
     "output_type": "execute_result"
    }
   ],
   "source": [
    "area_csv = pd.read_csv('/Users/laurabreimann/Desktop/Inga/database/area_sizes.csv')\n",
    "\n",
    "area_csv.loc[area_csv['filename'].str.contains('shLarp'), 'shRNA'] = 'shLarp'\n",
    "area_csv.loc[area_csv['filename'].str.contains('scr'), 'shRNA'] = 'ctrl'\n",
    "\n",
    "area_csv.sort_values(\n",
    "    by=[\"shRNA\", \"filename\"])\n",
    "area_csv.head(5)"
   ]
  },
  {
   "cell_type": "code",
   "execution_count": 13,
   "metadata": {},
   "outputs": [
    {
     "data": {
      "text/plain": [
       "80"
      ]
     },
     "execution_count": 13,
     "metadata": {},
     "output_type": "execute_result"
    }
   ],
   "source": [
    "len(area_csv)"
   ]
  },
  {
   "cell_type": "code",
   "execution_count": 14,
   "metadata": {},
   "outputs": [],
   "source": [
    "### Combine the two datasets\n",
    "split_word = '_filtered.csv'\n",
    "df['id'] = df.filename.str.partition(split_word)[0]\n",
    "df.head()\n",
    "df.to_csv('/Users/laurabreimann/Desktop/Inga/database/smFISH_database_3.csv', index=False)  \n"
   ]
  },
  {
   "cell_type": "code",
   "execution_count": 15,
   "metadata": {},
   "outputs": [
    {
     "data": {
      "text/html": [
       "<div>\n",
       "<style scoped>\n",
       "    .dataframe tbody tr th:only-of-type {\n",
       "        vertical-align: middle;\n",
       "    }\n",
       "\n",
       "    .dataframe tbody tr th {\n",
       "        vertical-align: top;\n",
       "    }\n",
       "\n",
       "    .dataframe thead th {\n",
       "        text-align: right;\n",
       "    }\n",
       "</style>\n",
       "<table border=\"1\" class=\"dataframe\">\n",
       "  <thead>\n",
       "    <tr style=\"text-align: right;\">\n",
       "      <th></th>\n",
       "      <th>filename</th>\n",
       "      <th>area</th>\n",
       "      <th>folder</th>\n",
       "      <th>shRNA</th>\n",
       "      <th>id</th>\n",
       "    </tr>\n",
       "  </thead>\n",
       "  <tbody>\n",
       "    <tr>\n",
       "      <th>0</th>\n",
       "      <td>ActB_Puro647_Map2-488_shLarp-001_larp20.tif.csv</td>\n",
       "      <td>1048576.0</td>\n",
       "      <td>/Users/laurabreimann/Desktop/Inga/masks/</td>\n",
       "      <td>shLarp</td>\n",
       "      <td>ActB_Puro647_Map2-488_shLarp-001_larp20</td>\n",
       "    </tr>\n",
       "    <tr>\n",
       "      <th>1</th>\n",
       "      <td>ActB_Puro647_Map2-488_shLarp-001_larp2.tif.csv</td>\n",
       "      <td>1048576.0</td>\n",
       "      <td>/Users/laurabreimann/Desktop/Inga/masks/</td>\n",
       "      <td>shLarp</td>\n",
       "      <td>ActB_Puro647_Map2-488_shLarp-001_larp2</td>\n",
       "    </tr>\n",
       "    <tr>\n",
       "      <th>2</th>\n",
       "      <td>Act_Puro647_Map2_488_scr_ctrl_scr5_2.tif.csv</td>\n",
       "      <td>1048576.0</td>\n",
       "      <td>/Users/laurabreimann/Desktop/Inga/masks/</td>\n",
       "      <td>ctrl</td>\n",
       "      <td>Act_Puro647_Map2_488_scr_ctrl_scr5_2</td>\n",
       "    </tr>\n",
       "    <tr>\n",
       "      <th>3</th>\n",
       "      <td>Act_Puro647_Map2_488_scr_ctrl_scr10.tif.csv</td>\n",
       "      <td>1048576.0</td>\n",
       "      <td>/Users/laurabreimann/Desktop/Inga/masks/</td>\n",
       "      <td>ctrl</td>\n",
       "      <td>Act_Puro647_Map2_488_scr_ctrl_scr10</td>\n",
       "    </tr>\n",
       "    <tr>\n",
       "      <th>4</th>\n",
       "      <td>ActB_Puro647_Map2-488_shLarp-001_larp11_1.tif.csv</td>\n",
       "      <td>1048576.0</td>\n",
       "      <td>/Users/laurabreimann/Desktop/Inga/masks/</td>\n",
       "      <td>shLarp</td>\n",
       "      <td>ActB_Puro647_Map2-488_shLarp-001_larp11_1</td>\n",
       "    </tr>\n",
       "  </tbody>\n",
       "</table>\n",
       "</div>"
      ],
      "text/plain": [
       "                                            filename       area  \\\n",
       "0    ActB_Puro647_Map2-488_shLarp-001_larp20.tif.csv  1048576.0   \n",
       "1     ActB_Puro647_Map2-488_shLarp-001_larp2.tif.csv  1048576.0   \n",
       "2       Act_Puro647_Map2_488_scr_ctrl_scr5_2.tif.csv  1048576.0   \n",
       "3        Act_Puro647_Map2_488_scr_ctrl_scr10.tif.csv  1048576.0   \n",
       "4  ActB_Puro647_Map2-488_shLarp-001_larp11_1.tif.csv  1048576.0   \n",
       "\n",
       "                                     folder   shRNA  \\\n",
       "0  /Users/laurabreimann/Desktop/Inga/masks/  shLarp   \n",
       "1  /Users/laurabreimann/Desktop/Inga/masks/  shLarp   \n",
       "2  /Users/laurabreimann/Desktop/Inga/masks/    ctrl   \n",
       "3  /Users/laurabreimann/Desktop/Inga/masks/    ctrl   \n",
       "4  /Users/laurabreimann/Desktop/Inga/masks/  shLarp   \n",
       "\n",
       "                                          id  \n",
       "0    ActB_Puro647_Map2-488_shLarp-001_larp20  \n",
       "1     ActB_Puro647_Map2-488_shLarp-001_larp2  \n",
       "2       Act_Puro647_Map2_488_scr_ctrl_scr5_2  \n",
       "3        Act_Puro647_Map2_488_scr_ctrl_scr10  \n",
       "4  ActB_Puro647_Map2-488_shLarp-001_larp11_1  "
      ]
     },
     "execution_count": 15,
     "metadata": {},
     "output_type": "execute_result"
    }
   ],
   "source": [
    "split_word = '.tif'\n",
    "area_csv['id'] = area_csv['filename'].str.partition(split_word)[0]\n",
    "area_csv.head()"
   ]
  },
  {
   "cell_type": "code",
   "execution_count": 16,
   "metadata": {},
   "outputs": [],
   "source": [
    "area_csv.to_csv('/Users/laurabreimann/Desktop/Inga/database/area_sizes_2.csv', index=False)  "
   ]
  },
  {
   "cell_type": "code",
   "execution_count": 17,
   "metadata": {},
   "outputs": [
    {
     "data": {
      "text/html": [
       "<div>\n",
       "<style scoped>\n",
       "    .dataframe tbody tr th:only-of-type {\n",
       "        vertical-align: middle;\n",
       "    }\n",
       "\n",
       "    .dataframe tbody tr th {\n",
       "        vertical-align: top;\n",
       "    }\n",
       "\n",
       "    .dataframe thead th {\n",
       "        text-align: right;\n",
       "    }\n",
       "</style>\n",
       "<table border=\"1\" class=\"dataframe\">\n",
       "  <thead>\n",
       "    <tr style=\"text-align: right;\">\n",
       "      <th></th>\n",
       "      <th>area</th>\n",
       "      <th>id</th>\n",
       "      <th>shRNA</th>\n",
       "    </tr>\n",
       "  </thead>\n",
       "  <tbody>\n",
       "    <tr>\n",
       "      <th>0</th>\n",
       "      <td>1048576.0</td>\n",
       "      <td>ActB_Puro647_Map2-488_shLarp-001_larp20</td>\n",
       "      <td>shLarp</td>\n",
       "    </tr>\n",
       "    <tr>\n",
       "      <th>1</th>\n",
       "      <td>1048576.0</td>\n",
       "      <td>ActB_Puro647_Map2-488_shLarp-001_larp2</td>\n",
       "      <td>shLarp</td>\n",
       "    </tr>\n",
       "    <tr>\n",
       "      <th>2</th>\n",
       "      <td>1048576.0</td>\n",
       "      <td>Act_Puro647_Map2_488_scr_ctrl_scr5_2</td>\n",
       "      <td>ctrl</td>\n",
       "    </tr>\n",
       "    <tr>\n",
       "      <th>3</th>\n",
       "      <td>1048576.0</td>\n",
       "      <td>Act_Puro647_Map2_488_scr_ctrl_scr10</td>\n",
       "      <td>ctrl</td>\n",
       "    </tr>\n",
       "    <tr>\n",
       "      <th>4</th>\n",
       "      <td>1048576.0</td>\n",
       "      <td>ActB_Puro647_Map2-488_shLarp-001_larp11_1</td>\n",
       "      <td>shLarp</td>\n",
       "    </tr>\n",
       "  </tbody>\n",
       "</table>\n",
       "</div>"
      ],
      "text/plain": [
       "        area                                         id   shRNA\n",
       "0  1048576.0    ActB_Puro647_Map2-488_shLarp-001_larp20  shLarp\n",
       "1  1048576.0     ActB_Puro647_Map2-488_shLarp-001_larp2  shLarp\n",
       "2  1048576.0       Act_Puro647_Map2_488_scr_ctrl_scr5_2    ctrl\n",
       "3  1048576.0        Act_Puro647_Map2_488_scr_ctrl_scr10    ctrl\n",
       "4  1048576.0  ActB_Puro647_Map2-488_shLarp-001_larp11_1  shLarp"
      ]
     },
     "execution_count": 17,
     "metadata": {},
     "output_type": "execute_result"
    }
   ],
   "source": [
    "area_id = area_csv.filter(['area', 'id', 'shRNA'], axis = 1)\n",
    "area_id.head(5)"
   ]
  },
  {
   "cell_type": "code",
   "execution_count": 18,
   "metadata": {},
   "outputs": [
    {
     "data": {
      "text/html": [
       "<div>\n",
       "<style scoped>\n",
       "    .dataframe tbody tr th:only-of-type {\n",
       "        vertical-align: middle;\n",
       "    }\n",
       "\n",
       "    .dataframe tbody tr th {\n",
       "        vertical-align: top;\n",
       "    }\n",
       "\n",
       "    .dataframe thead th {\n",
       "        text-align: right;\n",
       "    }\n",
       "</style>\n",
       "<table border=\"1\" class=\"dataframe\">\n",
       "  <thead>\n",
       "    <tr style=\"text-align: right;\">\n",
       "      <th></th>\n",
       "      <th>count</th>\n",
       "      <th>id</th>\n",
       "      <th>shRNA</th>\n",
       "    </tr>\n",
       "  </thead>\n",
       "  <tbody>\n",
       "    <tr>\n",
       "      <th>0</th>\n",
       "      <td>33</td>\n",
       "      <td>Act_Puro647_Map2_488_scr_ctrl_scr8</td>\n",
       "      <td>ctrl</td>\n",
       "    </tr>\n",
       "    <tr>\n",
       "      <th>1</th>\n",
       "      <td>15</td>\n",
       "      <td>ActB_Puro647_Map2-488_shLarp-001_larp16</td>\n",
       "      <td>shLarp</td>\n",
       "    </tr>\n",
       "    <tr>\n",
       "      <th>2</th>\n",
       "      <td>7</td>\n",
       "      <td>ActB_Puro647_Map2-488_shLarp-001_larp4</td>\n",
       "      <td>shLarp</td>\n",
       "    </tr>\n",
       "    <tr>\n",
       "      <th>3</th>\n",
       "      <td>13</td>\n",
       "      <td>ActB_Puro647_Map2-488_shLarp-001_larp11</td>\n",
       "      <td>shLarp</td>\n",
       "    </tr>\n",
       "    <tr>\n",
       "      <th>4</th>\n",
       "      <td>3</td>\n",
       "      <td>ActB_Puro647_Map2-488_shLarp-001_larp3</td>\n",
       "      <td>shLarp</td>\n",
       "    </tr>\n",
       "  </tbody>\n",
       "</table>\n",
       "</div>"
      ],
      "text/plain": [
       "   count                                       id   shRNA\n",
       "0     33       Act_Puro647_Map2_488_scr_ctrl_scr8    ctrl\n",
       "1     15  ActB_Puro647_Map2-488_shLarp-001_larp16  shLarp\n",
       "2      7   ActB_Puro647_Map2-488_shLarp-001_larp4  shLarp\n",
       "3     13  ActB_Puro647_Map2-488_shLarp-001_larp11  shLarp\n",
       "4      3   ActB_Puro647_Map2-488_shLarp-001_larp3  shLarp"
      ]
     },
     "execution_count": 18,
     "metadata": {},
     "output_type": "execute_result"
    }
   ],
   "source": [
    "df = df.filter(['count', 'id', 'shRNA'], axis = 1)\n",
    "df.head()"
   ]
  },
  {
   "cell_type": "code",
   "execution_count": 19,
   "metadata": {},
   "outputs": [
    {
     "data": {
      "text/html": [
       "<div>\n",
       "<style scoped>\n",
       "    .dataframe tbody tr th:only-of-type {\n",
       "        vertical-align: middle;\n",
       "    }\n",
       "\n",
       "    .dataframe tbody tr th {\n",
       "        vertical-align: top;\n",
       "    }\n",
       "\n",
       "    .dataframe thead th {\n",
       "        text-align: right;\n",
       "    }\n",
       "</style>\n",
       "<table border=\"1\" class=\"dataframe\">\n",
       "  <thead>\n",
       "    <tr style=\"text-align: right;\">\n",
       "      <th></th>\n",
       "      <th>count</th>\n",
       "      <th>id</th>\n",
       "      <th>shRNA</th>\n",
       "      <th>area</th>\n",
       "    </tr>\n",
       "  </thead>\n",
       "  <tbody>\n",
       "    <tr>\n",
       "      <th>0</th>\n",
       "      <td>33</td>\n",
       "      <td>Act_Puro647_Map2_488_scr_ctrl_scr8</td>\n",
       "      <td>ctrl</td>\n",
       "      <td>1048576.0</td>\n",
       "    </tr>\n",
       "    <tr>\n",
       "      <th>1</th>\n",
       "      <td>15</td>\n",
       "      <td>ActB_Puro647_Map2-488_shLarp-001_larp16</td>\n",
       "      <td>shLarp</td>\n",
       "      <td>1048576.0</td>\n",
       "    </tr>\n",
       "    <tr>\n",
       "      <th>2</th>\n",
       "      <td>7</td>\n",
       "      <td>ActB_Puro647_Map2-488_shLarp-001_larp4</td>\n",
       "      <td>shLarp</td>\n",
       "      <td>1048576.0</td>\n",
       "    </tr>\n",
       "    <tr>\n",
       "      <th>3</th>\n",
       "      <td>13</td>\n",
       "      <td>ActB_Puro647_Map2-488_shLarp-001_larp11</td>\n",
       "      <td>shLarp</td>\n",
       "      <td>1048576.0</td>\n",
       "    </tr>\n",
       "    <tr>\n",
       "      <th>4</th>\n",
       "      <td>3</td>\n",
       "      <td>ActB_Puro647_Map2-488_shLarp-001_larp3</td>\n",
       "      <td>shLarp</td>\n",
       "      <td>1048576.0</td>\n",
       "    </tr>\n",
       "  </tbody>\n",
       "</table>\n",
       "</div>"
      ],
      "text/plain": [
       "   count                                       id   shRNA       area\n",
       "0     33       Act_Puro647_Map2_488_scr_ctrl_scr8    ctrl  1048576.0\n",
       "1     15  ActB_Puro647_Map2-488_shLarp-001_larp16  shLarp  1048576.0\n",
       "2      7   ActB_Puro647_Map2-488_shLarp-001_larp4  shLarp  1048576.0\n",
       "3     13  ActB_Puro647_Map2-488_shLarp-001_larp11  shLarp  1048576.0\n",
       "4      3   ActB_Puro647_Map2-488_shLarp-001_larp3  shLarp  1048576.0"
      ]
     },
     "execution_count": 19,
     "metadata": {},
     "output_type": "execute_result"
    }
   ],
   "source": [
    "df3 = df.merge(area_csv[['id', 'area']], on = ['id'], how = 'outer')\n",
    "df3.head(5)\n"
   ]
  },
  {
   "cell_type": "code",
   "execution_count": 20,
   "metadata": {},
   "outputs": [
    {
     "data": {
      "text/html": [
       "<div>\n",
       "<style scoped>\n",
       "    .dataframe tbody tr th:only-of-type {\n",
       "        vertical-align: middle;\n",
       "    }\n",
       "\n",
       "    .dataframe tbody tr th {\n",
       "        vertical-align: top;\n",
       "    }\n",
       "\n",
       "    .dataframe thead th {\n",
       "        text-align: right;\n",
       "    }\n",
       "</style>\n",
       "<table border=\"1\" class=\"dataframe\">\n",
       "  <thead>\n",
       "    <tr style=\"text-align: right;\">\n",
       "      <th></th>\n",
       "      <th>count</th>\n",
       "      <th>id</th>\n",
       "      <th>shRNA</th>\n",
       "      <th>area</th>\n",
       "      <th>smFISH_per_area</th>\n",
       "    </tr>\n",
       "  </thead>\n",
       "  <tbody>\n",
       "    <tr>\n",
       "      <th>0</th>\n",
       "      <td>33</td>\n",
       "      <td>Act_Puro647_Map2_488_scr_ctrl_scr8</td>\n",
       "      <td>ctrl</td>\n",
       "      <td>1048576.0</td>\n",
       "      <td>0.000031</td>\n",
       "    </tr>\n",
       "    <tr>\n",
       "      <th>1</th>\n",
       "      <td>15</td>\n",
       "      <td>ActB_Puro647_Map2-488_shLarp-001_larp16</td>\n",
       "      <td>shLarp</td>\n",
       "      <td>1048576.0</td>\n",
       "      <td>0.000014</td>\n",
       "    </tr>\n",
       "    <tr>\n",
       "      <th>2</th>\n",
       "      <td>7</td>\n",
       "      <td>ActB_Puro647_Map2-488_shLarp-001_larp4</td>\n",
       "      <td>shLarp</td>\n",
       "      <td>1048576.0</td>\n",
       "      <td>0.000007</td>\n",
       "    </tr>\n",
       "    <tr>\n",
       "      <th>3</th>\n",
       "      <td>13</td>\n",
       "      <td>ActB_Puro647_Map2-488_shLarp-001_larp11</td>\n",
       "      <td>shLarp</td>\n",
       "      <td>1048576.0</td>\n",
       "      <td>0.000012</td>\n",
       "    </tr>\n",
       "    <tr>\n",
       "      <th>4</th>\n",
       "      <td>3</td>\n",
       "      <td>ActB_Puro647_Map2-488_shLarp-001_larp3</td>\n",
       "      <td>shLarp</td>\n",
       "      <td>1048576.0</td>\n",
       "      <td>0.000003</td>\n",
       "    </tr>\n",
       "  </tbody>\n",
       "</table>\n",
       "</div>"
      ],
      "text/plain": [
       "   count                                       id   shRNA       area  \\\n",
       "0     33       Act_Puro647_Map2_488_scr_ctrl_scr8    ctrl  1048576.0   \n",
       "1     15  ActB_Puro647_Map2-488_shLarp-001_larp16  shLarp  1048576.0   \n",
       "2      7   ActB_Puro647_Map2-488_shLarp-001_larp4  shLarp  1048576.0   \n",
       "3     13  ActB_Puro647_Map2-488_shLarp-001_larp11  shLarp  1048576.0   \n",
       "4      3   ActB_Puro647_Map2-488_shLarp-001_larp3  shLarp  1048576.0   \n",
       "\n",
       "   smFISH_per_area  \n",
       "0         0.000031  \n",
       "1         0.000014  \n",
       "2         0.000007  \n",
       "3         0.000012  \n",
       "4         0.000003  "
      ]
     },
     "execution_count": 20,
     "metadata": {},
     "output_type": "execute_result"
    }
   ],
   "source": [
    "df3['smFISH_per_area'] = df3['count']/df3['area']\n",
    "df3.head(5)"
   ]
  },
  {
   "cell_type": "code",
   "execution_count": 21,
   "metadata": {},
   "outputs": [
    {
     "data": {
      "text/plain": [
       "80"
      ]
     },
     "execution_count": 21,
     "metadata": {},
     "output_type": "execute_result"
    }
   ],
   "source": [
    "len(df3)"
   ]
  },
  {
   "cell_type": "code",
   "execution_count": 22,
   "metadata": {},
   "outputs": [],
   "source": [
    "df3.to_csv('/Users/laurabreimann/Desktop/Inga/database/total_database.csv', index=False)  "
   ]
  }
 ],
 "metadata": {
  "kernelspec": {
   "display_name": "codeAC",
   "language": "python",
   "name": "python3"
  },
  "language_info": {
   "codemirror_mode": {
    "name": "ipython",
    "version": 3
   },
   "file_extension": ".py",
   "mimetype": "text/x-python",
   "name": "python",
   "nbconvert_exporter": "python",
   "pygments_lexer": "ipython3",
   "version": "3.10.6"
  },
  "vscode": {
   "interpreter": {
    "hash": "449bde5978f1d6b6695cadac00c00d368fba75983d89e4716a3c8371cdf19145"
   }
  }
 },
 "nbformat": 4,
 "nbformat_minor": 2
}
